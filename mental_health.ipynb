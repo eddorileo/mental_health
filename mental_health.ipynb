{
  "nbformat": 4,
  "nbformat_minor": 0,
  "metadata": {
    "colab": {
      "provenance": [],
      "collapsed_sections": [
        "gpaaGPXKEeD8",
        "qmKOlHe7hgxk"
      ]
    },
    "kernelspec": {
      "name": "python3",
      "display_name": "Python 3"
    },
    "language_info": {
      "name": "python"
    }
  },
  "cells": [
    {
      "cell_type": "markdown",
      "source": [
        "# Data Science na Medicina\n",
        "\n",
        "###Objetivo\n",
        "- Familiarização com ferramentas de apoio analítico\n",
        "- Introdução à manipulação dos dados\n",
        "- Interação com conceitos estatísticos elementares\n",
        "- Apresentar ferramentas de visualização básica\n",
        "- Estabelecer um primeiro contato com a linguagem Python\n",
        "\n",
        "\n",
        "####Questões Base\n",
        "- Porque falar sobre DS na saúde?\n",
        "- O que é colab e python? Isso é para médicos? (Cadê o excel?)\n",
        "- Por que essas tecnologias são perfeitas para a exploração rápida e facilitada de grandes massas de dados?\n",
        "- Como o domínio e familiaridade com a manipulação de grandes massas de dados podem me fazer um profissional melhor?\n",
        "- Que benefícios poderiam prover ao paciente ou à saúde, em geral?\n",
        "\n"
      ],
      "metadata": {
        "id": "3fa6JvmUZoJF"
      }
    },
    {
      "cell_type": "markdown",
      "source": [
        "##A. Introdução\n"
      ],
      "metadata": {
        "id": "gpaaGPXKEeD8"
      }
    },
    {
      "cell_type": "markdown",
      "source": [
        "###Disparador\n",
        "\n",
        "####Tema Do Dia: Saúde Mental na Graduação\n",
        "\n",
        "Link para o [artigo científico](https://www.scielo.br/j/aval/a/dfcGTywRV3srdNG7NVTvG4K/)\n",
        "\n",
        "\n",
        "*   Apresentar estrutura do artigo científico\n",
        "*   Propor leitura do resumo e conclusão\n",
        "*   Seguir com a espiral sobre o tema\n",
        "*   Fazer dissecação prática (abaixo) dos dados do dataset sobre o assunto\n"
      ],
      "metadata": {
        "id": "CXbuUgwzE0Hr"
      }
    },
    {
      "cell_type": "markdown",
      "source": [
        "##B. Prática\n"
      ],
      "metadata": {
        "id": "qmKOlHe7hgxk"
      }
    },
    {
      "cell_type": "markdown",
      "source": [
        "###1. Importando bibliotecas de apoio"
      ],
      "metadata": {
        "id": "X5ePFNfGCmk2"
      }
    },
    {
      "cell_type": "code",
      "source": [
        "import pandas as pd\n",
        "import matplotlib.pyplot as plt"
      ],
      "metadata": {
        "id": "OtXBF11xNz6i"
      },
      "execution_count": null,
      "outputs": []
    },
    {
      "cell_type": "markdown",
      "source": [
        "###Carregue os dados\n",
        "Salve na variável data"
      ],
      "metadata": {
        "id": "tFp1zB8V3UXp"
      }
    },
    {
      "cell_type": "code",
      "source": [
        "# Load the dataset from github\n",
        "data = pd.read_csv('https://raw.githubusercontent.com/eddorileo/mental_health/main/StudentMentalHealth.csv')"
      ],
      "metadata": {
        "id": "EnjqJx8a3Ujm"
      },
      "execution_count": null,
      "outputs": []
    },
    {
      "cell_type": "markdown",
      "source": [
        "###2. Verifique os dados"
      ],
      "metadata": {
        "id": "G565iKxT2e2U"
      }
    },
    {
      "cell_type": "code",
      "source": [
        "data"
      ],
      "metadata": {
        "colab": {
          "base_uri": "https://localhost:8080/",
          "height": 589
        },
        "id": "N3ueRzZP2fZ1",
        "outputId": "5a6252d4-5ffc-4cd1-8cd8-5af19dd05d48"
      },
      "execution_count": null,
      "outputs": [
        {
          "output_type": "execute_result",
          "data": {
            "text/plain": [
              "               Timestamp Choose your gender   Age What is your course?  \\\n",
              "0         8/7/2020 12:02             Female  18.0          Engineering   \n",
              "1         8/7/2020 12:04               Male  21.0    Islamic education   \n",
              "2         8/7/2020 12:05               Male  19.0                  BIT   \n",
              "3         8/7/2020 12:06             Female  22.0                 Laws   \n",
              "4         8/7/2020 12:13               Male  23.0         Mathemathics   \n",
              "..                   ...                ...   ...                  ...   \n",
              "96   13/07/2020 19:56:49             Female  21.0                  BCS   \n",
              "97   13/07/2020 21:21:42               Male  18.0          Engineering   \n",
              "98   13/07/2020 21:22:56             Female  19.0             Nursing    \n",
              "99   13/07/2020 21:23:57             Female  23.0     Pendidikan Islam   \n",
              "100  18/07/2020 20:16:21               Male  20.0   Biomedical science   \n",
              "\n",
              "    Your current year of Study What is your CGPA? Marital status  \\\n",
              "0                       year 1        3.00 - 3.49             No   \n",
              "1                       year 2        3.00 - 3.49             No   \n",
              "2                       Year 1        3.00 - 3.49             No   \n",
              "3                       year 3        3.00 - 3.49            Yes   \n",
              "4                       year 4        3.00 - 3.49             No   \n",
              "..                         ...                ...            ...   \n",
              "96                      year 1        3.50 - 4.00             No   \n",
              "97                      Year 2        3.00 - 3.49             No   \n",
              "98                      Year 3        3.50 - 4.00            Yes   \n",
              "99                      year 4        3.50 - 4.00             No   \n",
              "100                     Year 2        3.00 - 3.49             No   \n",
              "\n",
              "    Do you have Depression? Do you have Anxiety? Do you have Panic attack?  \\\n",
              "0                       Yes                   No                       Yes   \n",
              "1                        No                  Yes                        No   \n",
              "2                       Yes                  Yes                       Yes   \n",
              "3                       Yes                   No                        No   \n",
              "4                        No                   No                        No   \n",
              "..                      ...                  ...                       ...   \n",
              "96                       No                  Yes                        No   \n",
              "97                      Yes                  Yes                        No   \n",
              "98                      Yes                   No                       Yes   \n",
              "99                       No                   No                        No   \n",
              "100                      No                   No                        No   \n",
              "\n",
              "    Did you seek any specialist for a treatment?  \n",
              "0                                             No  \n",
              "1                                             No  \n",
              "2                                             No  \n",
              "3                                             No  \n",
              "4                                             No  \n",
              "..                                           ...  \n",
              "96                                            No  \n",
              "97                                            No  \n",
              "98                                            No  \n",
              "99                                            No  \n",
              "100                                           No  \n",
              "\n",
              "[101 rows x 11 columns]"
            ],
            "text/html": [
              "\n",
              "\n",
              "  <div id=\"df-c1ed977e-c9a9-4a63-91dd-afc8fb430438\">\n",
              "    <div class=\"colab-df-container\">\n",
              "      <div>\n",
              "<style scoped>\n",
              "    .dataframe tbody tr th:only-of-type {\n",
              "        vertical-align: middle;\n",
              "    }\n",
              "\n",
              "    .dataframe tbody tr th {\n",
              "        vertical-align: top;\n",
              "    }\n",
              "\n",
              "    .dataframe thead th {\n",
              "        text-align: right;\n",
              "    }\n",
              "</style>\n",
              "<table border=\"1\" class=\"dataframe\">\n",
              "  <thead>\n",
              "    <tr style=\"text-align: right;\">\n",
              "      <th></th>\n",
              "      <th>Timestamp</th>\n",
              "      <th>Choose your gender</th>\n",
              "      <th>Age</th>\n",
              "      <th>What is your course?</th>\n",
              "      <th>Your current year of Study</th>\n",
              "      <th>What is your CGPA?</th>\n",
              "      <th>Marital status</th>\n",
              "      <th>Do you have Depression?</th>\n",
              "      <th>Do you have Anxiety?</th>\n",
              "      <th>Do you have Panic attack?</th>\n",
              "      <th>Did you seek any specialist for a treatment?</th>\n",
              "    </tr>\n",
              "  </thead>\n",
              "  <tbody>\n",
              "    <tr>\n",
              "      <th>0</th>\n",
              "      <td>8/7/2020 12:02</td>\n",
              "      <td>Female</td>\n",
              "      <td>18.0</td>\n",
              "      <td>Engineering</td>\n",
              "      <td>year 1</td>\n",
              "      <td>3.00 - 3.49</td>\n",
              "      <td>No</td>\n",
              "      <td>Yes</td>\n",
              "      <td>No</td>\n",
              "      <td>Yes</td>\n",
              "      <td>No</td>\n",
              "    </tr>\n",
              "    <tr>\n",
              "      <th>1</th>\n",
              "      <td>8/7/2020 12:04</td>\n",
              "      <td>Male</td>\n",
              "      <td>21.0</td>\n",
              "      <td>Islamic education</td>\n",
              "      <td>year 2</td>\n",
              "      <td>3.00 - 3.49</td>\n",
              "      <td>No</td>\n",
              "      <td>No</td>\n",
              "      <td>Yes</td>\n",
              "      <td>No</td>\n",
              "      <td>No</td>\n",
              "    </tr>\n",
              "    <tr>\n",
              "      <th>2</th>\n",
              "      <td>8/7/2020 12:05</td>\n",
              "      <td>Male</td>\n",
              "      <td>19.0</td>\n",
              "      <td>BIT</td>\n",
              "      <td>Year 1</td>\n",
              "      <td>3.00 - 3.49</td>\n",
              "      <td>No</td>\n",
              "      <td>Yes</td>\n",
              "      <td>Yes</td>\n",
              "      <td>Yes</td>\n",
              "      <td>No</td>\n",
              "    </tr>\n",
              "    <tr>\n",
              "      <th>3</th>\n",
              "      <td>8/7/2020 12:06</td>\n",
              "      <td>Female</td>\n",
              "      <td>22.0</td>\n",
              "      <td>Laws</td>\n",
              "      <td>year 3</td>\n",
              "      <td>3.00 - 3.49</td>\n",
              "      <td>Yes</td>\n",
              "      <td>Yes</td>\n",
              "      <td>No</td>\n",
              "      <td>No</td>\n",
              "      <td>No</td>\n",
              "    </tr>\n",
              "    <tr>\n",
              "      <th>4</th>\n",
              "      <td>8/7/2020 12:13</td>\n",
              "      <td>Male</td>\n",
              "      <td>23.0</td>\n",
              "      <td>Mathemathics</td>\n",
              "      <td>year 4</td>\n",
              "      <td>3.00 - 3.49</td>\n",
              "      <td>No</td>\n",
              "      <td>No</td>\n",
              "      <td>No</td>\n",
              "      <td>No</td>\n",
              "      <td>No</td>\n",
              "    </tr>\n",
              "    <tr>\n",
              "      <th>...</th>\n",
              "      <td>...</td>\n",
              "      <td>...</td>\n",
              "      <td>...</td>\n",
              "      <td>...</td>\n",
              "      <td>...</td>\n",
              "      <td>...</td>\n",
              "      <td>...</td>\n",
              "      <td>...</td>\n",
              "      <td>...</td>\n",
              "      <td>...</td>\n",
              "      <td>...</td>\n",
              "    </tr>\n",
              "    <tr>\n",
              "      <th>96</th>\n",
              "      <td>13/07/2020 19:56:49</td>\n",
              "      <td>Female</td>\n",
              "      <td>21.0</td>\n",
              "      <td>BCS</td>\n",
              "      <td>year 1</td>\n",
              "      <td>3.50 - 4.00</td>\n",
              "      <td>No</td>\n",
              "      <td>No</td>\n",
              "      <td>Yes</td>\n",
              "      <td>No</td>\n",
              "      <td>No</td>\n",
              "    </tr>\n",
              "    <tr>\n",
              "      <th>97</th>\n",
              "      <td>13/07/2020 21:21:42</td>\n",
              "      <td>Male</td>\n",
              "      <td>18.0</td>\n",
              "      <td>Engineering</td>\n",
              "      <td>Year 2</td>\n",
              "      <td>3.00 - 3.49</td>\n",
              "      <td>No</td>\n",
              "      <td>Yes</td>\n",
              "      <td>Yes</td>\n",
              "      <td>No</td>\n",
              "      <td>No</td>\n",
              "    </tr>\n",
              "    <tr>\n",
              "      <th>98</th>\n",
              "      <td>13/07/2020 21:22:56</td>\n",
              "      <td>Female</td>\n",
              "      <td>19.0</td>\n",
              "      <td>Nursing</td>\n",
              "      <td>Year 3</td>\n",
              "      <td>3.50 - 4.00</td>\n",
              "      <td>Yes</td>\n",
              "      <td>Yes</td>\n",
              "      <td>No</td>\n",
              "      <td>Yes</td>\n",
              "      <td>No</td>\n",
              "    </tr>\n",
              "    <tr>\n",
              "      <th>99</th>\n",
              "      <td>13/07/2020 21:23:57</td>\n",
              "      <td>Female</td>\n",
              "      <td>23.0</td>\n",
              "      <td>Pendidikan Islam</td>\n",
              "      <td>year 4</td>\n",
              "      <td>3.50 - 4.00</td>\n",
              "      <td>No</td>\n",
              "      <td>No</td>\n",
              "      <td>No</td>\n",
              "      <td>No</td>\n",
              "      <td>No</td>\n",
              "    </tr>\n",
              "    <tr>\n",
              "      <th>100</th>\n",
              "      <td>18/07/2020 20:16:21</td>\n",
              "      <td>Male</td>\n",
              "      <td>20.0</td>\n",
              "      <td>Biomedical science</td>\n",
              "      <td>Year 2</td>\n",
              "      <td>3.00 - 3.49</td>\n",
              "      <td>No</td>\n",
              "      <td>No</td>\n",
              "      <td>No</td>\n",
              "      <td>No</td>\n",
              "      <td>No</td>\n",
              "    </tr>\n",
              "  </tbody>\n",
              "</table>\n",
              "<p>101 rows × 11 columns</p>\n",
              "</div>\n",
              "      <button class=\"colab-df-convert\" onclick=\"convertToInteractive('df-c1ed977e-c9a9-4a63-91dd-afc8fb430438')\"\n",
              "              title=\"Convert this dataframe to an interactive table.\"\n",
              "              style=\"display:none;\">\n",
              "\n",
              "  <svg xmlns=\"http://www.w3.org/2000/svg\" height=\"24px\"viewBox=\"0 0 24 24\"\n",
              "       width=\"24px\">\n",
              "    <path d=\"M0 0h24v24H0V0z\" fill=\"none\"/>\n",
              "    <path d=\"M18.56 5.44l.94 2.06.94-2.06 2.06-.94-2.06-.94-.94-2.06-.94 2.06-2.06.94zm-11 1L8.5 8.5l.94-2.06 2.06-.94-2.06-.94L8.5 2.5l-.94 2.06-2.06.94zm10 10l.94 2.06.94-2.06 2.06-.94-2.06-.94-.94-2.06-.94 2.06-2.06.94z\"/><path d=\"M17.41 7.96l-1.37-1.37c-.4-.4-.92-.59-1.43-.59-.52 0-1.04.2-1.43.59L10.3 9.45l-7.72 7.72c-.78.78-.78 2.05 0 2.83L4 21.41c.39.39.9.59 1.41.59.51 0 1.02-.2 1.41-.59l7.78-7.78 2.81-2.81c.8-.78.8-2.07 0-2.86zM5.41 20L4 18.59l7.72-7.72 1.47 1.35L5.41 20z\"/>\n",
              "  </svg>\n",
              "      </button>\n",
              "\n",
              "\n",
              "\n",
              "    <div id=\"df-d1d27b5d-95b1-4a44-8a58-4f9eea7fa85b\">\n",
              "      <button class=\"colab-df-quickchart\" onclick=\"quickchart('df-d1d27b5d-95b1-4a44-8a58-4f9eea7fa85b')\"\n",
              "              title=\"Suggest charts.\"\n",
              "              style=\"display:none;\">\n",
              "\n",
              "<svg xmlns=\"http://www.w3.org/2000/svg\" height=\"24px\"viewBox=\"0 0 24 24\"\n",
              "     width=\"24px\">\n",
              "    <g>\n",
              "        <path d=\"M19 3H5c-1.1 0-2 .9-2 2v14c0 1.1.9 2 2 2h14c1.1 0 2-.9 2-2V5c0-1.1-.9-2-2-2zM9 17H7v-7h2v7zm4 0h-2V7h2v10zm4 0h-2v-4h2v4z\"/>\n",
              "    </g>\n",
              "</svg>\n",
              "      </button>\n",
              "    </div>\n",
              "\n",
              "<style>\n",
              "  .colab-df-quickchart {\n",
              "    background-color: #E8F0FE;\n",
              "    border: none;\n",
              "    border-radius: 50%;\n",
              "    cursor: pointer;\n",
              "    display: none;\n",
              "    fill: #1967D2;\n",
              "    height: 32px;\n",
              "    padding: 0 0 0 0;\n",
              "    width: 32px;\n",
              "  }\n",
              "\n",
              "  .colab-df-quickchart:hover {\n",
              "    background-color: #E2EBFA;\n",
              "    box-shadow: 0px 1px 2px rgba(60, 64, 67, 0.3), 0px 1px 3px 1px rgba(60, 64, 67, 0.15);\n",
              "    fill: #174EA6;\n",
              "  }\n",
              "\n",
              "  [theme=dark] .colab-df-quickchart {\n",
              "    background-color: #3B4455;\n",
              "    fill: #D2E3FC;\n",
              "  }\n",
              "\n",
              "  [theme=dark] .colab-df-quickchart:hover {\n",
              "    background-color: #434B5C;\n",
              "    box-shadow: 0px 1px 3px 1px rgba(0, 0, 0, 0.15);\n",
              "    filter: drop-shadow(0px 1px 2px rgba(0, 0, 0, 0.3));\n",
              "    fill: #FFFFFF;\n",
              "  }\n",
              "</style>\n",
              "\n",
              "    <script>\n",
              "      async function quickchart(key) {\n",
              "        const containerElement = document.querySelector('#' + key);\n",
              "        const charts = await google.colab.kernel.invokeFunction(\n",
              "            'suggestCharts', [key], {});\n",
              "      }\n",
              "    </script>\n",
              "\n",
              "      <script>\n",
              "\n",
              "function displayQuickchartButton(domScope) {\n",
              "  let quickchartButtonEl =\n",
              "    domScope.querySelector('#df-d1d27b5d-95b1-4a44-8a58-4f9eea7fa85b button.colab-df-quickchart');\n",
              "  quickchartButtonEl.style.display =\n",
              "    google.colab.kernel.accessAllowed ? 'block' : 'none';\n",
              "}\n",
              "\n",
              "        displayQuickchartButton(document);\n",
              "      </script>\n",
              "      <style>\n",
              "    .colab-df-container {\n",
              "      display:flex;\n",
              "      flex-wrap:wrap;\n",
              "      gap: 12px;\n",
              "    }\n",
              "\n",
              "    .colab-df-convert {\n",
              "      background-color: #E8F0FE;\n",
              "      border: none;\n",
              "      border-radius: 50%;\n",
              "      cursor: pointer;\n",
              "      display: none;\n",
              "      fill: #1967D2;\n",
              "      height: 32px;\n",
              "      padding: 0 0 0 0;\n",
              "      width: 32px;\n",
              "    }\n",
              "\n",
              "    .colab-df-convert:hover {\n",
              "      background-color: #E2EBFA;\n",
              "      box-shadow: 0px 1px 2px rgba(60, 64, 67, 0.3), 0px 1px 3px 1px rgba(60, 64, 67, 0.15);\n",
              "      fill: #174EA6;\n",
              "    }\n",
              "\n",
              "    [theme=dark] .colab-df-convert {\n",
              "      background-color: #3B4455;\n",
              "      fill: #D2E3FC;\n",
              "    }\n",
              "\n",
              "    [theme=dark] .colab-df-convert:hover {\n",
              "      background-color: #434B5C;\n",
              "      box-shadow: 0px 1px 3px 1px rgba(0, 0, 0, 0.15);\n",
              "      filter: drop-shadow(0px 1px 2px rgba(0, 0, 0, 0.3));\n",
              "      fill: #FFFFFF;\n",
              "    }\n",
              "  </style>\n",
              "\n",
              "      <script>\n",
              "        const buttonEl =\n",
              "          document.querySelector('#df-c1ed977e-c9a9-4a63-91dd-afc8fb430438 button.colab-df-convert');\n",
              "        buttonEl.style.display =\n",
              "          google.colab.kernel.accessAllowed ? 'block' : 'none';\n",
              "\n",
              "        async function convertToInteractive(key) {\n",
              "          const element = document.querySelector('#df-c1ed977e-c9a9-4a63-91dd-afc8fb430438');\n",
              "          const dataTable =\n",
              "            await google.colab.kernel.invokeFunction('convertToInteractive',\n",
              "                                                     [key], {});\n",
              "          if (!dataTable) return;\n",
              "\n",
              "          const docLinkHtml = 'Like what you see? Visit the ' +\n",
              "            '<a target=\"_blank\" href=https://colab.research.google.com/notebooks/data_table.ipynb>data table notebook</a>'\n",
              "            + ' to learn more about interactive tables.';\n",
              "          element.innerHTML = '';\n",
              "          dataTable['output_type'] = 'display_data';\n",
              "          await google.colab.output.renderOutput(dataTable, element);\n",
              "          const docLink = document.createElement('div');\n",
              "          docLink.innerHTML = docLinkHtml;\n",
              "          element.appendChild(docLink);\n",
              "        }\n",
              "      </script>\n",
              "    </div>\n",
              "  </div>\n"
            ]
          },
          "metadata": {},
          "execution_count": 74
        }
      ]
    },
    {
      "cell_type": "markdown",
      "source": [
        "###3. E se vc quiser trabalhar com apenas uma coluna?"
      ],
      "metadata": {
        "id": "Dt-S8tSXHgnb"
      }
    },
    {
      "cell_type": "code",
      "source": [
        "data['Age']"
      ],
      "metadata": {
        "colab": {
          "base_uri": "https://localhost:8080/"
        },
        "id": "tVXbJtlxHstF",
        "outputId": "20529742-70c5-4c30-d7c7-bf3ee4bbe3a8"
      },
      "execution_count": null,
      "outputs": [
        {
          "output_type": "execute_result",
          "data": {
            "text/plain": [
              "0      18.0\n",
              "1      21.0\n",
              "2      19.0\n",
              "3      22.0\n",
              "4      23.0\n",
              "       ... \n",
              "96     21.0\n",
              "97     18.0\n",
              "98     19.0\n",
              "99     23.0\n",
              "100    20.0\n",
              "Name: Age, Length: 101, dtype: float64"
            ]
          },
          "metadata": {},
          "execution_count": 167
        }
      ]
    },
    {
      "cell_type": "markdown",
      "source": [
        "###4. Faça algo útil com a sua coluna"
      ],
      "metadata": {
        "id": "DfAsS-wNKPoe"
      }
    },
    {
      "cell_type": "code",
      "source": [
        "data['Age'].max()"
      ],
      "metadata": {
        "colab": {
          "base_uri": "https://localhost:8080/"
        },
        "id": "RU17DXghKQFL",
        "outputId": "858062cb-cd40-47a1-ea66-99019e359b26"
      },
      "execution_count": null,
      "outputs": [
        {
          "output_type": "execute_result",
          "data": {
            "text/plain": [
              "24.0"
            ]
          },
          "metadata": {},
          "execution_count": 154
        }
      ]
    },
    {
      "cell_type": "markdown",
      "source": [
        "###5. Interessado em algumas estatísticas básicas?\n",
        "\n",
        "Use describe()"
      ],
      "metadata": {
        "id": "C85h3qG7LnE2"
      }
    },
    {
      "cell_type": "code",
      "source": [
        "data.Age.describe()"
      ],
      "metadata": {
        "colab": {
          "base_uri": "https://localhost:8080/"
        },
        "id": "rXVhDebWLnk4",
        "outputId": "c4fe6810-bdb3-4b0a-d380-116c5051becb"
      },
      "execution_count": null,
      "outputs": [
        {
          "output_type": "execute_result",
          "data": {
            "text/plain": [
              "count    100.00000\n",
              "mean      20.53000\n",
              "std        2.49628\n",
              "min       18.00000\n",
              "25%       18.00000\n",
              "50%       19.00000\n",
              "75%       23.00000\n",
              "max       24.00000\n",
              "Name: Age, dtype: float64"
            ]
          },
          "metadata": {},
          "execution_count": 160
        }
      ]
    },
    {
      "cell_type": "markdown",
      "source": [
        "**...Consegue descobrir o que significam essas estatísticas?**"
      ],
      "metadata": {
        "id": "zgLez2F1Mjek"
      }
    },
    {
      "cell_type": "markdown",
      "source": [
        "#####**Nota1**\n",
        "\n",
        "Para dados numéricos, o índice do resultado incluirá count, mean,[ std](https://shorturl.at/rsQX3), min, max bem como os percentis inferior, 50 e superior.\n",
        "\n",
        "Por padrão, o percentil inferior é 25 e o percentil superior é 75. O percentil 50 é igual à mediana.\n",
        "\n"
      ],
      "metadata": {
        "id": "Mq-e4yWQPak2"
      }
    },
    {
      "cell_type": "markdown",
      "source": [
        "###Experimente describe() novamente com outra coluna..."
      ],
      "metadata": {
        "id": "OsqY9gtkVZo3"
      }
    },
    {
      "cell_type": "code",
      "source": [
        "desc_depression = data['Do you have Depression?'].describe()\n",
        "desc_depression,\n",
        "#desc_depression.freq/len(data)\n",
        "#data.Timestamp.describe()\n"
      ],
      "metadata": {
        "colab": {
          "base_uri": "https://localhost:8080/"
        },
        "id": "_oiRhJvaSNGF",
        "outputId": "4d1729fa-d200-464a-be58-17ef44d60edd"
      },
      "execution_count": null,
      "outputs": [
        {
          "output_type": "execute_result",
          "data": {
            "text/plain": [
              "(count     101\n",
              " unique      2\n",
              " top        No\n",
              " freq       66\n",
              " Name: Do you have Depression?, dtype: object,)"
            ]
          },
          "metadata": {},
          "execution_count": 61
        }
      ]
    },
    {
      "cell_type": "markdown",
      "source": [
        "#####**Nota2**\n",
        "\n",
        "Para dados de objeto (por exemplo, strings ou timestamps), o índice do resultado incluirá count, unique, top e freq.\n",
        "\n",
        "top é o valor mais comum.\n",
        "\n",
        "freq é a frequência do valor mais comum."
      ],
      "metadata": {
        "id": "lpb3RCP8SNrI"
      }
    },
    {
      "cell_type": "markdown",
      "source": [
        "###6. Gráficos"
      ],
      "metadata": {
        "id": "tGikaBlVfhzE"
      }
    },
    {
      "cell_type": "code",
      "source": [
        "#LINHAS\n",
        "data.Age.plot()"
      ],
      "metadata": {
        "colab": {
          "base_uri": "https://localhost:8080/",
          "height": 448
        },
        "id": "px576Jkh7zmk",
        "outputId": "8f9a14bc-6752-4604-95d6-f7705caf4545"
      },
      "execution_count": null,
      "outputs": [
        {
          "output_type": "execute_result",
          "data": {
            "text/plain": [
              "<Axes: >"
            ]
          },
          "metadata": {},
          "execution_count": 59
        },
        {
          "output_type": "display_data",
          "data": {
            "text/plain": [
              "<Figure size 640x480 with 1 Axes>"
            ],
            "image/png": "[encoded data removed]"
          },
          "metadata": {}
        }
      ]
    },
    {
      "cell_type": "markdown",
      "source": [
        "Como ficaria o resultado de describe (percentis das idades) em uma única imagem?"
      ],
      "metadata": {
        "id": "6mO51YeY9mMR"
      }
    },
    {
      "cell_type": "code",
      "source": [
        "#BOXPLOT\n",
        "data.Age.plot.box()"
      ],
      "metadata": {
        "colab": {
          "base_uri": "https://localhost:8080/",
          "height": 448
        },
        "id": "7E_rqwDVfiG3",
        "outputId": "4d1e2102-3292-4d4b-ae54-188b98126454"
      },
      "execution_count": null,
      "outputs": [
        {
          "output_type": "execute_result",
          "data": {
            "text/plain": [
              "<Axes: >"
            ]
          },
          "metadata": {},
          "execution_count": 24
        },
        {
          "output_type": "display_data",
          "data": {
            "text/plain": [
              "<Figure size 640x480 with 1 Axes>"
            ],
            "image/png": "[encoded data removed]"
          },
          "metadata": {}
        }
      ]
    },
    {
      "cell_type": "markdown",
      "source": [
        "Entenda mais sobre boxplot: [clique aqui](https://static.wixstatic.com/media/d8f2a2_13ae00396b764d80b0fef53986739ffd~mv2.png/v1/fit/w_550%2Ch_503%2Cal_c%2Cq_80,enc_auto/file.jpg)"
      ],
      "metadata": {
        "id": "CFIn_YX1mOUj"
      }
    },
    {
      "cell_type": "code",
      "source": [
        "#HISTOGRAMA (Gráfico de barras)\n",
        "plt.hist(data.Age, ec='black')"
      ],
      "metadata": {
        "colab": {
          "base_uri": "https://localhost:8080/",
          "height": 484
        },
        "id": "tK4BCpfy7niO",
        "outputId": "2674e72a-e16e-4591-c9bf-4bb83bb5e57c"
      },
      "execution_count": null,
      "outputs": [
        {
          "output_type": "execute_result",
          "data": {
            "text/plain": [
              "(array([32., 21.,  0.,  6.,  0.,  3.,  2.,  0., 13., 23.]),\n",
              " array([18. , 18.6, 19.2, 19.8, 20.4, 21. , 21.6, 22.2, 22.8, 23.4, 24. ]),\n",
              " <BarContainer object of 10 artists>)"
            ]
          },
          "metadata": {},
          "execution_count": 22
        },
        {
          "output_type": "display_data",
          "data": {
            "text/plain": [
              "<Figure size 640x480 with 1 Axes>"
            ],
            "image/png": "[encoded data removed]"
          },
          "metadata": {}
        }
      ]
    },
    {
      "cell_type": "markdown",
      "source": [
        "###7. Extraindo informação\n",
        "\n",
        "#####Que história(s) os dados nos contam?\n"
      ],
      "metadata": {
        "id": "pp14_c6UnXQN"
      }
    },
    {
      "cell_type": "code",
      "source": [
        "#gráfico de pontos\n",
        "data.plot.scatter(x='Do you have Depression?', y='What is your CGPA?')"
      ],
      "metadata": {
        "colab": {
          "base_uri": "https://localhost:8080/",
          "height": 467
        },
        "id": "C1DunH8K177d",
        "outputId": "90ce6a3d-a599-4844-a6e5-3a27f0f4e836"
      },
      "execution_count": null,
      "outputs": [
        {
          "output_type": "execute_result",
          "data": {
            "text/plain": [
              "<Axes: xlabel='Do you have Depression?', ylabel='What is your CGPA?'>"
            ]
          },
          "metadata": {},
          "execution_count": 63
        },
        {
          "output_type": "display_data",
          "data": {
            "text/plain": [
              "<Figure size 640x480 with 1 Axes>"
            ],
            "image/png": "[encoded data removed]"
          },
          "metadata": {}
        }
      ]
    },
    {
      "cell_type": "markdown",
      "source": [
        "---> É possível dizer que existe **relação*** entre nota (CGPA) e percepção de depressão?\n",
        "\n"
      ],
      "metadata": {
        "id": "U7w2VVVXF_CN"
      }
    },
    {
      "cell_type": "markdown",
      "source": [
        "###8. Como ficaria a correlação entre todas as colunas?"
      ],
      "metadata": {
        "id": "CcUeMHveGzbH"
      }
    },
    {
      "cell_type": "code",
      "source": [
        "#a. criar uma cópia de segurança da variável 'data'\n",
        "corr_data = data.copy()\n",
        "\n",
        "#b. acessar colunas\n",
        "corr_data.keys()\n"
      ],
      "metadata": {
        "colab": {
          "base_uri": "https://localhost:8080/"
        },
        "id": "AWNvUbpIIwc8",
        "outputId": "3b2e6ea6-a017-459b-90bf-0a9160ded8f0"
      },
      "execution_count": null,
      "outputs": [
        {
          "output_type": "execute_result",
          "data": {
            "text/plain": [
              "Index(['Timestamp', 'Choose your gender', 'Age', 'What is your course?',\n",
              "       'Your current year of Study', 'What is your CGPA?', 'Marital status',\n",
              "       'Do you have Depression?', 'Do you have Anxiety?',\n",
              "       'Do you have Panic attack?',\n",
              "       'Did you seek any specialist for a treatment?'],\n",
              "      dtype='object')"
            ]
          },
          "metadata": {},
          "execution_count": 100
        }
      ]
    },
    {
      "cell_type": "code",
      "source": [
        "#c. conceito: loop (laço de interação)\n",
        "for col in corr_data.keys():\n",
        "  print(col)"
      ],
      "metadata": {
        "colab": {
          "base_uri": "https://localhost:8080/"
        },
        "id": "hLWFqsv9OLrB",
        "outputId": "2f7f6124-5023-4390-dcde-8c2fe45c2392"
      },
      "execution_count": null,
      "outputs": [
        {
          "output_type": "stream",
          "name": "stdout",
          "text": [
            "Timestamp\n",
            "Choose your gender\n",
            "Age\n",
            "What is your course?\n",
            "Your current year of Study\n",
            "What is your CGPA?\n",
            "Marital status\n",
            "Do you have Depression?\n",
            "Do you have Anxiety?\n",
            "Do you have Panic attack?\n",
            "Did you seek any specialist for a treatment?\n"
          ]
        }
      ]
    },
    {
      "cell_type": "code",
      "source": [
        "#transformar textos na tabela em códigos numéricos\n",
        "for col in corr_data.keys():\n",
        "  corr_data[col]=corr_data[col].astype('category').cat.codes"
      ],
      "metadata": {
        "id": "_jeOG2htProb"
      },
      "execution_count": null,
      "outputs": []
    },
    {
      "cell_type": "code",
      "source": [
        "#CORRELACAO ENTRE COLUNAS\n",
        "#corr_data\n",
        "# corr_data.corr()\n",
        "corr_data.corr().style.background_gradient(cmap='coolwarm')"
      ],
      "metadata": {
        "colab": {
          "base_uri": "https://localhost:8080/",
          "height": 603
        },
        "id": "O177LRU8KoIF",
        "outputId": "5bfe3fca-db0b-49a7-8405-1f01716702ac"
      },
      "execution_count": null,
      "outputs": [
        {
          "output_type": "execute_result",
          "data": {
            "text/plain": [
              "<pandas.io.formats.style.Styler at 0x78c9c5553430>"
            ],
            "text/html": [
              "<style type=\"text/css\">\n",
              "#T_9fdb4_row0_col0, #T_9fdb4_row1_col1, #T_9fdb4_row2_col2, #T_9fdb4_row3_col3, #T_9fdb4_row4_col4, #T_9fdb4_row5_col5, #T_9fdb4_row6_col6, #T_9fdb4_row7_col7, #T_9fdb4_row8_col8, #T_9fdb4_row9_col9, #T_9fdb4_row10_col10 {\n",
              "  background-color: #b40426;\n",
              "  color: #f1f1f1;\n",
              "}\n",
              "#T_9fdb4_row0_col1, #T_9fdb4_row10_col1 {\n",
              "  background-color: #5977e3;\n",
              "  color: #f1f1f1;\n",
              "}\n",
              "#T_9fdb4_row0_col2, #T_9fdb4_row1_col9 {\n",
              "  background-color: #5b7ae5;\n",
              "  color: #f1f1f1;\n",
              "}\n",
              "#T_9fdb4_row0_col3, #T_9fdb4_row1_col4, #T_9fdb4_row1_col5, #T_9fdb4_row1_col6, #T_9fdb4_row1_col7, #T_9fdb4_row3_col0, #T_9fdb4_row4_col1, #T_9fdb4_row4_col8, #T_9fdb4_row4_col9, #T_9fdb4_row4_col10, #T_9fdb4_row8_col2 {\n",
              "  background-color: #3b4cc0;\n",
              "  color: #f1f1f1;\n",
              "}\n",
              "#T_9fdb4_row0_col4, #T_9fdb4_row3_col6 {\n",
              "  background-color: #799cf8;\n",
              "  color: #f1f1f1;\n",
              "}\n",
              "#T_9fdb4_row0_col5, #T_9fdb4_row4_col0, #T_9fdb4_row6_col5 {\n",
              "  background-color: #7093f3;\n",
              "  color: #f1f1f1;\n",
              "}\n",
              "#T_9fdb4_row0_col6, #T_9fdb4_row3_col10 {\n",
              "  background-color: #445acc;\n",
              "  color: #f1f1f1;\n",
              "}\n",
              "#T_9fdb4_row0_col7, #T_9fdb4_row6_col1, #T_9fdb4_row7_col0, #T_9fdb4_row7_col4 {\n",
              "  background-color: #5572df;\n",
              "  color: #f1f1f1;\n",
              "}\n",
              "#T_9fdb4_row0_col8, #T_9fdb4_row1_col10 {\n",
              "  background-color: #4e68d8;\n",
              "  color: #f1f1f1;\n",
              "}\n",
              "#T_9fdb4_row0_col9, #T_9fdb4_row5_col9, #T_9fdb4_row6_col2, #T_9fdb4_row9_col0 {\n",
              "  background-color: #7396f5;\n",
              "  color: #f1f1f1;\n",
              "}\n",
              "#T_9fdb4_row0_col10, #T_9fdb4_row5_col7, #T_9fdb4_row10_col5 {\n",
              "  background-color: #6788ee;\n",
              "  color: #f1f1f1;\n",
              "}\n",
              "#T_9fdb4_row1_col0, #T_9fdb4_row3_col1, #T_9fdb4_row8_col0 {\n",
              "  background-color: #516ddb;\n",
              "  color: #f1f1f1;\n",
              "}\n",
              "#T_9fdb4_row1_col2, #T_9fdb4_row1_col3 {\n",
              "  background-color: #4a63d3;\n",
              "  color: #f1f1f1;\n",
              "}\n",
              "#T_9fdb4_row1_col8, #T_9fdb4_row2_col6 {\n",
              "  background-color: #6f92f3;\n",
              "  color: #f1f1f1;\n",
              "}\n",
              "#T_9fdb4_row2_col0, #T_9fdb4_row10_col0 {\n",
              "  background-color: #6b8df0;\n",
              "  color: #f1f1f1;\n",
              "}\n",
              "#T_9fdb4_row2_col1, #T_9fdb4_row5_col10, #T_9fdb4_row10_col2 {\n",
              "  background-color: #6180e9;\n",
              "  color: #f1f1f1;\n",
              "}\n",
              "#T_9fdb4_row2_col3 {\n",
              "  background-color: #4c66d6;\n",
              "  color: #f1f1f1;\n",
              "}\n",
              "#T_9fdb4_row2_col4, #T_9fdb4_row9_col6 {\n",
              "  background-color: #a6c4fe;\n",
              "  color: #000000;\n",
              "}\n",
              "#T_9fdb4_row2_col5, #T_9fdb4_row2_col9 {\n",
              "  background-color: #7699f6;\n",
              "  color: #f1f1f1;\n",
              "}\n",
              "#T_9fdb4_row2_col7 {\n",
              "  background-color: #506bda;\n",
              "  color: #f1f1f1;\n",
              "}\n",
              "#T_9fdb4_row2_col8 {\n",
              "  background-color: #465ecf;\n",
              "  color: #f1f1f1;\n",
              "}\n",
              "#T_9fdb4_row2_col10 {\n",
              "  background-color: #6c8ff1;\n",
              "  color: #f1f1f1;\n",
              "}\n",
              "#T_9fdb4_row3_col2 {\n",
              "  background-color: #3d50c3;\n",
              "  color: #f1f1f1;\n",
              "}\n",
              "#T_9fdb4_row3_col4, #T_9fdb4_row3_col5 {\n",
              "  background-color: #8caffe;\n",
              "  color: #000000;\n",
              "}\n",
              "#T_9fdb4_row3_col7 {\n",
              "  background-color: #7ea1fa;\n",
              "  color: #f1f1f1;\n",
              "}\n",
              "#T_9fdb4_row3_col8 {\n",
              "  background-color: #5470de;\n",
              "  color: #f1f1f1;\n",
              "}\n",
              "#T_9fdb4_row3_col9 {\n",
              "  background-color: #84a7fc;\n",
              "  color: #f1f1f1;\n",
              "}\n",
              "#T_9fdb4_row4_col2 {\n",
              "  background-color: #93b5fe;\n",
              "  color: #000000;\n",
              "}\n",
              "#T_9fdb4_row4_col3 {\n",
              "  background-color: #85a8fc;\n",
              "  color: #f1f1f1;\n",
              "}\n",
              "#T_9fdb4_row4_col5, #T_9fdb4_row5_col8 {\n",
              "  background-color: #8fb1fe;\n",
              "  color: #000000;\n",
              "}\n",
              "#T_9fdb4_row4_col6, #T_9fdb4_row10_col3 {\n",
              "  background-color: #4961d2;\n",
              "  color: #f1f1f1;\n",
              "}\n",
              "#T_9fdb4_row4_col7 {\n",
              "  background-color: #4f69d9;\n",
              "  color: #f1f1f1;\n",
              "}\n",
              "#T_9fdb4_row5_col0 {\n",
              "  background-color: #6e90f2;\n",
              "  color: #f1f1f1;\n",
              "}\n",
              "#T_9fdb4_row5_col1 {\n",
              "  background-color: #3e51c5;\n",
              "  color: #f1f1f1;\n",
              "}\n",
              "#T_9fdb4_row5_col2, #T_9fdb4_row9_col2 {\n",
              "  background-color: #6485ec;\n",
              "  color: #f1f1f1;\n",
              "}\n",
              "#T_9fdb4_row5_col3 {\n",
              "  background-color: #88abfd;\n",
              "  color: #000000;\n",
              "}\n",
              "#T_9fdb4_row5_col4 {\n",
              "  background-color: #92b4fe;\n",
              "  color: #000000;\n",
              "}\n",
              "#T_9fdb4_row5_col6 {\n",
              "  background-color: #5a78e4;\n",
              "  color: #f1f1f1;\n",
              "}\n",
              "#T_9fdb4_row6_col0 {\n",
              "  background-color: #5673e0;\n",
              "  color: #f1f1f1;\n",
              "}\n",
              "#T_9fdb4_row6_col3 {\n",
              "  background-color: #8badfd;\n",
              "  color: #000000;\n",
              "}\n",
              "#T_9fdb4_row6_col4 {\n",
              "  background-color: #6384eb;\n",
              "  color: #f1f1f1;\n",
              "}\n",
              "#T_9fdb4_row6_col7 {\n",
              "  background-color: #f6bea4;\n",
              "  color: #000000;\n",
              "}\n",
              "#T_9fdb4_row6_col8, #T_9fdb4_row8_col1 {\n",
              "  background-color: #7a9df8;\n",
              "  color: #f1f1f1;\n",
              "}\n",
              "#T_9fdb4_row6_col9 {\n",
              "  background-color: #b6cefa;\n",
              "  color: #000000;\n",
              "}\n",
              "#T_9fdb4_row6_col10 {\n",
              "  background-color: #c7d7f0;\n",
              "  color: #000000;\n",
              "}\n",
              "#T_9fdb4_row7_col1 {\n",
              "  background-color: #4257c9;\n",
              "  color: #f1f1f1;\n",
              "}\n",
              "#T_9fdb4_row7_col2, #T_9fdb4_row9_col4 {\n",
              "  background-color: #4055c8;\n",
              "  color: #f1f1f1;\n",
              "}\n",
              "#T_9fdb4_row7_col3 {\n",
              "  background-color: #7da0f9;\n",
              "  color: #f1f1f1;\n",
              "}\n",
              "#T_9fdb4_row7_col5, #T_9fdb4_row8_col6 {\n",
              "  background-color: #6a8bef;\n",
              "  color: #f1f1f1;\n",
              "}\n",
              "#T_9fdb4_row7_col6 {\n",
              "  background-color: #f4c5ad;\n",
              "  color: #000000;\n",
              "}\n",
              "#T_9fdb4_row7_col8 {\n",
              "  background-color: #b2ccfb;\n",
              "  color: #000000;\n",
              "}\n",
              "#T_9fdb4_row7_col9, #T_9fdb4_row9_col7 {\n",
              "  background-color: #adc9fd;\n",
              "  color: #000000;\n",
              "}\n",
              "#T_9fdb4_row7_col10 {\n",
              "  background-color: #c6d6f1;\n",
              "  color: #000000;\n",
              "}\n",
              "#T_9fdb4_row8_col3 {\n",
              "  background-color: #5875e1;\n",
              "  color: #f1f1f1;\n",
              "}\n",
              "#T_9fdb4_row8_col4, #T_9fdb4_row10_col4 {\n",
              "  background-color: #455cce;\n",
              "  color: #f1f1f1;\n",
              "}\n",
              "#T_9fdb4_row8_col5, #T_9fdb4_row9_col10 {\n",
              "  background-color: #94b6ff;\n",
              "  color: #000000;\n",
              "}\n",
              "#T_9fdb4_row8_col7 {\n",
              "  background-color: #b5cdfa;\n",
              "  color: #000000;\n",
              "}\n",
              "#T_9fdb4_row8_col9 {\n",
              "  background-color: #7b9ff9;\n",
              "  color: #f1f1f1;\n",
              "}\n",
              "#T_9fdb4_row8_col10, #T_9fdb4_row9_col8, #T_9fdb4_row10_col8 {\n",
              "  background-color: #779af7;\n",
              "  color: #f1f1f1;\n",
              "}\n",
              "#T_9fdb4_row9_col1 {\n",
              "  background-color: #6282ea;\n",
              "  color: #f1f1f1;\n",
              "}\n",
              "#T_9fdb4_row9_col3 {\n",
              "  background-color: #82a6fb;\n",
              "  color: #f1f1f1;\n",
              "}\n",
              "#T_9fdb4_row9_col5 {\n",
              "  background-color: #7597f6;\n",
              "  color: #f1f1f1;\n",
              "}\n",
              "#T_9fdb4_row10_col6 {\n",
              "  background-color: #bed2f6;\n",
              "  color: #000000;\n",
              "}\n",
              "#T_9fdb4_row10_col7 {\n",
              "  background-color: #c9d7f0;\n",
              "  color: #000000;\n",
              "}\n",
              "#T_9fdb4_row10_col9 {\n",
              "  background-color: #9abbff;\n",
              "  color: #000000;\n",
              "}\n",
              "</style>\n",
              "<table id=\"T_9fdb4\" class=\"dataframe\">\n",
              "  <thead>\n",
              "    <tr>\n",
              "      <th class=\"blank level0\" >&nbsp;</th>\n",
              "      <th id=\"T_9fdb4_level0_col0\" class=\"col_heading level0 col0\" >Timestamp</th>\n",
              "      <th id=\"T_9fdb4_level0_col1\" class=\"col_heading level0 col1\" >Choose your gender</th>\n",
              "      <th id=\"T_9fdb4_level0_col2\" class=\"col_heading level0 col2\" >Age</th>\n",
              "      <th id=\"T_9fdb4_level0_col3\" class=\"col_heading level0 col3\" >What is your course?</th>\n",
              "      <th id=\"T_9fdb4_level0_col4\" class=\"col_heading level0 col4\" >Your current year of Study</th>\n",
              "      <th id=\"T_9fdb4_level0_col5\" class=\"col_heading level0 col5\" >What is your CGPA?</th>\n",
              "      <th id=\"T_9fdb4_level0_col6\" class=\"col_heading level0 col6\" >Marital status</th>\n",
              "      <th id=\"T_9fdb4_level0_col7\" class=\"col_heading level0 col7\" >Do you have Depression?</th>\n",
              "      <th id=\"T_9fdb4_level0_col8\" class=\"col_heading level0 col8\" >Do you have Anxiety?</th>\n",
              "      <th id=\"T_9fdb4_level0_col9\" class=\"col_heading level0 col9\" >Do you have Panic attack?</th>\n",
              "      <th id=\"T_9fdb4_level0_col10\" class=\"col_heading level0 col10\" >Did you seek any specialist for a treatment?</th>\n",
              "    </tr>\n",
              "  </thead>\n",
              "  <tbody>\n",
              "    <tr>\n",
              "      <th id=\"T_9fdb4_level0_row0\" class=\"row_heading level0 row0\" >Timestamp</th>\n",
              "      <td id=\"T_9fdb4_row0_col0\" class=\"data row0 col0\" >1.000000</td>\n",
              "      <td id=\"T_9fdb4_row0_col1\" class=\"data row0 col1\" >-0.056468</td>\n",
              "      <td id=\"T_9fdb4_row0_col2\" class=\"data row0 col2\" >0.032629</td>\n",
              "      <td id=\"T_9fdb4_row0_col3\" class=\"data row0 col3\" >-0.142148</td>\n",
              "      <td id=\"T_9fdb4_row0_col4\" class=\"data row0 col4\" >0.054044</td>\n",
              "      <td id=\"T_9fdb4_row0_col5\" class=\"data row0 col5\" >0.043349</td>\n",
              "      <td id=\"T_9fdb4_row0_col6\" class=\"data row0 col6\" >-0.035198</td>\n",
              "      <td id=\"T_9fdb4_row0_col7\" class=\"data row0 col7\" >-0.043745</td>\n",
              "      <td id=\"T_9fdb4_row0_col8\" class=\"data row0 col8\" >-0.053206</td>\n",
              "      <td id=\"T_9fdb4_row0_col9\" class=\"data row0 col9\" >0.059569</td>\n",
              "      <td id=\"T_9fdb4_row0_col10\" class=\"data row0 col10\" >0.033196</td>\n",
              "    </tr>\n",
              "    <tr>\n",
              "      <th id=\"T_9fdb4_level0_row1\" class=\"row_heading level0 row1\" >Choose your gender</th>\n",
              "      <td id=\"T_9fdb4_row1_col0\" class=\"data row1 col0\" >-0.056468</td>\n",
              "      <td id=\"T_9fdb4_row1_col1\" class=\"data row1 col1\" >1.000000</td>\n",
              "      <td id=\"T_9fdb4_row1_col2\" class=\"data row1 col2\" >-0.026050</td>\n",
              "      <td id=\"T_9fdb4_row1_col3\" class=\"data row1 col3\" >-0.080491</td>\n",
              "      <td id=\"T_9fdb4_row1_col4\" class=\"data row1 col4\" >-0.170877</td>\n",
              "      <td id=\"T_9fdb4_row1_col5\" class=\"data row1 col5\" >-0.154524</td>\n",
              "      <td id=\"T_9fdb4_row1_col6\" class=\"data row1 col6\" >-0.069389</td>\n",
              "      <td id=\"T_9fdb4_row1_col7\" class=\"data row1 col7\" >-0.143235</td>\n",
              "      <td id=\"T_9fdb4_row1_col8\" class=\"data row1 col8\" >0.059783</td>\n",
              "      <td id=\"T_9fdb4_row1_col9\" class=\"data row1 col9\" >-0.023902</td>\n",
              "      <td id=\"T_9fdb4_row1_col10\" class=\"data row1 col10\" >-0.052168</td>\n",
              "    </tr>\n",
              "    <tr>\n",
              "      <th id=\"T_9fdb4_level0_row2\" class=\"row_heading level0 row2\" >Age</th>\n",
              "      <td id=\"T_9fdb4_row2_col0\" class=\"data row2 col0\" >0.032629</td>\n",
              "      <td id=\"T_9fdb4_row2_col1\" class=\"data row2 col1\" >-0.026050</td>\n",
              "      <td id=\"T_9fdb4_row2_col2\" class=\"data row2 col2\" >1.000000</td>\n",
              "      <td id=\"T_9fdb4_row2_col3\" class=\"data row2 col3\" >-0.073412</td>\n",
              "      <td id=\"T_9fdb4_row2_col4\" class=\"data row2 col4\" >0.206322</td>\n",
              "      <td id=\"T_9fdb4_row2_col5\" class=\"data row2 col5\" >0.061305</td>\n",
              "      <td id=\"T_9fdb4_row2_col6\" class=\"data row2 col6\" >0.109498</td>\n",
              "      <td id=\"T_9fdb4_row2_col7\" class=\"data row2 col7\" >-0.061074</td>\n",
              "      <td id=\"T_9fdb4_row2_col8\" class=\"data row2 col8\" >-0.082528</td>\n",
              "      <td id=\"T_9fdb4_row2_col9\" class=\"data row2 col9\" >0.064812</td>\n",
              "      <td id=\"T_9fdb4_row2_col10\" class=\"data row2 col10\" >0.050841</td>\n",
              "    </tr>\n",
              "    <tr>\n",
              "      <th id=\"T_9fdb4_level0_row3\" class=\"row_heading level0 row3\" >What is your course?</th>\n",
              "      <td id=\"T_9fdb4_row3_col0\" class=\"data row3 col0\" >-0.142148</td>\n",
              "      <td id=\"T_9fdb4_row3_col1\" class=\"data row3 col1\" >-0.080491</td>\n",
              "      <td id=\"T_9fdb4_row3_col2\" class=\"data row3 col2\" >-0.073412</td>\n",
              "      <td id=\"T_9fdb4_row3_col3\" class=\"data row3 col3\" >1.000000</td>\n",
              "      <td id=\"T_9fdb4_row3_col4\" class=\"data row3 col4\" >0.119625</td>\n",
              "      <td id=\"T_9fdb4_row3_col5\" class=\"data row3 col5\" >0.129901</td>\n",
              "      <td id=\"T_9fdb4_row3_col6\" class=\"data row3 col6\" >0.136272</td>\n",
              "      <td id=\"T_9fdb4_row3_col7\" class=\"data row3 col7\" >0.093920</td>\n",
              "      <td id=\"T_9fdb4_row3_col8\" class=\"data row3 col8\" >-0.034602</td>\n",
              "      <td id=\"T_9fdb4_row3_col9\" class=\"data row3 col9\" >0.112130</td>\n",
              "      <td id=\"T_9fdb4_row3_col10\" class=\"data row3 col10\" >-0.088214</td>\n",
              "    </tr>\n",
              "    <tr>\n",
              "      <th id=\"T_9fdb4_level0_row4\" class=\"row_heading level0 row4\" >Your current year of Study</th>\n",
              "      <td id=\"T_9fdb4_row4_col0\" class=\"data row4 col0\" >0.054044</td>\n",
              "      <td id=\"T_9fdb4_row4_col1\" class=\"data row4 col1\" >-0.170877</td>\n",
              "      <td id=\"T_9fdb4_row4_col2\" class=\"data row4 col2\" >0.206322</td>\n",
              "      <td id=\"T_9fdb4_row4_col3\" class=\"data row4 col3\" >0.119625</td>\n",
              "      <td id=\"T_9fdb4_row4_col4\" class=\"data row4 col4\" >1.000000</td>\n",
              "      <td id=\"T_9fdb4_row4_col5\" class=\"data row4 col5\" >0.138647</td>\n",
              "      <td id=\"T_9fdb4_row4_col6\" class=\"data row4 col6\" >-0.018065</td>\n",
              "      <td id=\"T_9fdb4_row4_col7\" class=\"data row4 col7\" >-0.066243</td>\n",
              "      <td id=\"T_9fdb4_row4_col8\" class=\"data row4 col8\" >-0.127976</td>\n",
              "      <td id=\"T_9fdb4_row4_col9\" class=\"data row4 col9\" >-0.145819</td>\n",
              "      <td id=\"T_9fdb4_row4_col10\" class=\"data row4 col10\" >-0.125424</td>\n",
              "    </tr>\n",
              "    <tr>\n",
              "      <th id=\"T_9fdb4_level0_row5\" class=\"row_heading level0 row5\" >What is your CGPA?</th>\n",
              "      <td id=\"T_9fdb4_row5_col0\" class=\"data row5 col0\" >0.043349</td>\n",
              "      <td id=\"T_9fdb4_row5_col1\" class=\"data row5 col1\" >-0.154524</td>\n",
              "      <td id=\"T_9fdb4_row5_col2\" class=\"data row5 col2\" >0.061305</td>\n",
              "      <td id=\"T_9fdb4_row5_col3\" class=\"data row5 col3\" >0.129901</td>\n",
              "      <td id=\"T_9fdb4_row5_col4\" class=\"data row5 col4\" >0.138647</td>\n",
              "      <td id=\"T_9fdb4_row5_col5\" class=\"data row5 col5\" >1.000000</td>\n",
              "      <td id=\"T_9fdb4_row5_col6\" class=\"data row5 col6\" >0.040236</td>\n",
              "      <td id=\"T_9fdb4_row5_col7\" class=\"data row5 col7\" >0.020872</td>\n",
              "      <td id=\"T_9fdb4_row5_col8\" class=\"data row5 col8\" >0.160044</td>\n",
              "      <td id=\"T_9fdb4_row5_col9\" class=\"data row5 col9\" >0.056251</td>\n",
              "      <td id=\"T_9fdb4_row5_col10\" class=\"data row5 col10\" >0.012255</td>\n",
              "    </tr>\n",
              "    <tr>\n",
              "      <th id=\"T_9fdb4_level0_row6\" class=\"row_heading level0 row6\" >Marital status</th>\n",
              "      <td id=\"T_9fdb4_row6_col0\" class=\"data row6 col0\" >-0.035198</td>\n",
              "      <td id=\"T_9fdb4_row6_col1\" class=\"data row6 col1\" >-0.069389</td>\n",
              "      <td id=\"T_9fdb4_row6_col2\" class=\"data row6 col2\" >0.109498</td>\n",
              "      <td id=\"T_9fdb4_row6_col3\" class=\"data row6 col3\" >0.136272</td>\n",
              "      <td id=\"T_9fdb4_row6_col4\" class=\"data row6 col4\" >-0.018065</td>\n",
              "      <td id=\"T_9fdb4_row6_col5\" class=\"data row6 col5\" >0.040236</td>\n",
              "      <td id=\"T_9fdb4_row6_col6\" class=\"data row6 col6\" >1.000000</td>\n",
              "      <td id=\"T_9fdb4_row6_col7\" class=\"data row6 col7\" >0.595784</td>\n",
              "      <td id=\"T_9fdb4_row6_col8\" class=\"data row6 col8\" >0.092606</td>\n",
              "      <td id=\"T_9fdb4_row6_col9\" class=\"data row6 col9\" >0.275909</td>\n",
              "      <td id=\"T_9fdb4_row6_col10\" class=\"data row6 col10\" >0.349819</td>\n",
              "    </tr>\n",
              "    <tr>\n",
              "      <th id=\"T_9fdb4_level0_row7\" class=\"row_heading level0 row7\" >Do you have Depression?</th>\n",
              "      <td id=\"T_9fdb4_row7_col0\" class=\"data row7 col0\" >-0.043745</td>\n",
              "      <td id=\"T_9fdb4_row7_col1\" class=\"data row7 col1\" >-0.143235</td>\n",
              "      <td id=\"T_9fdb4_row7_col2\" class=\"data row7 col2\" >-0.061074</td>\n",
              "      <td id=\"T_9fdb4_row7_col3\" class=\"data row7 col3\" >0.093920</td>\n",
              "      <td id=\"T_9fdb4_row7_col4\" class=\"data row7 col4\" >-0.066243</td>\n",
              "      <td id=\"T_9fdb4_row7_col5\" class=\"data row7 col5\" >0.020872</td>\n",
              "      <td id=\"T_9fdb4_row7_col6\" class=\"data row7 col6\" >0.595784</td>\n",
              "      <td id=\"T_9fdb4_row7_col7\" class=\"data row7 col7\" >1.000000</td>\n",
              "      <td id=\"T_9fdb4_row7_col8\" class=\"data row7 col8\" >0.273764</td>\n",
              "      <td id=\"T_9fdb4_row7_col9\" class=\"data row7 col9\" >0.246842</td>\n",
              "      <td id=\"T_9fdb4_row7_col10\" class=\"data row7 col10\" >0.345105</td>\n",
              "    </tr>\n",
              "    <tr>\n",
              "      <th id=\"T_9fdb4_level0_row8\" class=\"row_heading level0 row8\" >Do you have Anxiety?</th>\n",
              "      <td id=\"T_9fdb4_row8_col0\" class=\"data row8 col0\" >-0.053206</td>\n",
              "      <td id=\"T_9fdb4_row8_col1\" class=\"data row8 col1\" >0.059783</td>\n",
              "      <td id=\"T_9fdb4_row8_col2\" class=\"data row8 col2\" >-0.082528</td>\n",
              "      <td id=\"T_9fdb4_row8_col3\" class=\"data row8 col3\" >-0.034602</td>\n",
              "      <td id=\"T_9fdb4_row8_col4\" class=\"data row8 col4\" >-0.127976</td>\n",
              "      <td id=\"T_9fdb4_row8_col5\" class=\"data row8 col5\" >0.160044</td>\n",
              "      <td id=\"T_9fdb4_row8_col6\" class=\"data row8 col6\" >0.092606</td>\n",
              "      <td id=\"T_9fdb4_row8_col7\" class=\"data row8 col7\" >0.273764</td>\n",
              "      <td id=\"T_9fdb4_row8_col8\" class=\"data row8 col8\" >1.000000</td>\n",
              "      <td id=\"T_9fdb4_row8_col9\" class=\"data row8 col9\" >0.084478</td>\n",
              "      <td id=\"T_9fdb4_row8_col10\" class=\"data row8 col10\" >0.086880</td>\n",
              "    </tr>\n",
              "    <tr>\n",
              "      <th id=\"T_9fdb4_level0_row9\" class=\"row_heading level0 row9\" >Do you have Panic attack?</th>\n",
              "      <td id=\"T_9fdb4_row9_col0\" class=\"data row9 col0\" >0.059569</td>\n",
              "      <td id=\"T_9fdb4_row9_col1\" class=\"data row9 col1\" >-0.023902</td>\n",
              "      <td id=\"T_9fdb4_row9_col2\" class=\"data row9 col2\" >0.064812</td>\n",
              "      <td id=\"T_9fdb4_row9_col3\" class=\"data row9 col3\" >0.112130</td>\n",
              "      <td id=\"T_9fdb4_row9_col4\" class=\"data row9 col4\" >-0.145819</td>\n",
              "      <td id=\"T_9fdb4_row9_col5\" class=\"data row9 col5\" >0.056251</td>\n",
              "      <td id=\"T_9fdb4_row9_col6\" class=\"data row9 col6\" >0.275909</td>\n",
              "      <td id=\"T_9fdb4_row9_col7\" class=\"data row9 col7\" >0.246842</td>\n",
              "      <td id=\"T_9fdb4_row9_col8\" class=\"data row9 col8\" >0.084478</td>\n",
              "      <td id=\"T_9fdb4_row9_col9\" class=\"data row9 col9\" >1.000000</td>\n",
              "      <td id=\"T_9fdb4_row9_col10\" class=\"data row9 col10\" >0.182145</td>\n",
              "    </tr>\n",
              "    <tr>\n",
              "      <th id=\"T_9fdb4_level0_row10\" class=\"row_heading level0 row10\" >Did you seek any specialist for a treatment?</th>\n",
              "      <td id=\"T_9fdb4_row10_col0\" class=\"data row10 col0\" >0.033196</td>\n",
              "      <td id=\"T_9fdb4_row10_col1\" class=\"data row10 col1\" >-0.052168</td>\n",
              "      <td id=\"T_9fdb4_row10_col2\" class=\"data row10 col2\" >0.050841</td>\n",
              "      <td id=\"T_9fdb4_row10_col3\" class=\"data row10 col3\" >-0.088214</td>\n",
              "      <td id=\"T_9fdb4_row10_col4\" class=\"data row10 col4\" >-0.125424</td>\n",
              "      <td id=\"T_9fdb4_row10_col5\" class=\"data row10 col5\" >0.012255</td>\n",
              "      <td id=\"T_9fdb4_row10_col6\" class=\"data row10 col6\" >0.349819</td>\n",
              "      <td id=\"T_9fdb4_row10_col7\" class=\"data row10 col7\" >0.345105</td>\n",
              "      <td id=\"T_9fdb4_row10_col8\" class=\"data row10 col8\" >0.086880</td>\n",
              "      <td id=\"T_9fdb4_row10_col9\" class=\"data row10 col9\" >0.182145</td>\n",
              "      <td id=\"T_9fdb4_row10_col10\" class=\"data row10 col10\" >1.000000</td>\n",
              "    </tr>\n",
              "  </tbody>\n",
              "</table>\n"
            ]
          },
          "metadata": {},
          "execution_count": 129
        }
      ]
    },
    {
      "cell_type": "markdown",
      "source": [
        "####Que inferências é possível extrair dessas correlações?"
      ],
      "metadata": {
        "id": "pRvtVPhG7VzG"
      }
    }
  ]
}